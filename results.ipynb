{
  "cells": [
    {
      "cell_type": "code",
      "execution_count": 1,
      "metadata": {
        "id": "KvBZAhiyHAA6"
      },
      "outputs": [],
      "source": [
        "import pandas as pd\n"
      ]
    },
    {
      "cell_type": "code",
      "execution_count": 3,
      "metadata": {
        "colab": {
          "base_uri": "https://localhost:8080/",
          "height": 215
        },
        "id": "m5khxF6iHecK",
        "outputId": "f8e7942e-f93a-4042-f94c-120ce8f85b3f"
      },
      "outputs": [
        {
          "data": {
            "text/html": [
              "\n",
              "  <div id=\"df-810f6a45-bb42-4433-97e5-cbd1f65a9a56\">\n",
              "    <div class=\"colab-df-container\">\n",
              "      <div>\n",
              "<style scoped>\n",
              "    .dataframe tbody tr th:only-of-type {\n",
              "        vertical-align: middle;\n",
              "    }\n",
              "\n",
              "    .dataframe tbody tr th {\n",
              "        vertical-align: top;\n",
              "    }\n",
              "\n",
              "    .dataframe thead th {\n",
              "        text-align: right;\n",
              "    }\n",
              "</style>\n",
              "<table border=\"1\" class=\"dataframe\">\n",
              "  <thead>\n",
              "    <tr style=\"text-align: right;\">\n",
              "      <th></th>\n",
              "      <th>S0</th>\n",
              "      <th>S1</th>\n",
              "      <th>S2</th>\n",
              "      <th>S3</th>\n",
              "      <th>S4</th>\n",
              "      <th>S5</th>\n",
              "      <th>α</th>\n",
              "    </tr>\n",
              "  </thead>\n",
              "  <tbody>\n",
              "    <tr>\n",
              "      <th>0</th>\n",
              "      <td>0.561446</td>\n",
              "      <td>0.66346</td>\n",
              "      <td>0.562650</td>\n",
              "      <td>0.665015</td>\n",
              "      <td>0.364184</td>\n",
              "      <td>0.466287</td>\n",
              "      <td>0.000</td>\n",
              "    </tr>\n",
              "    <tr>\n",
              "      <th>1</th>\n",
              "      <td>0.561446</td>\n",
              "      <td>0.66346</td>\n",
              "      <td>0.562899</td>\n",
              "      <td>0.665262</td>\n",
              "      <td>0.369413</td>\n",
              "      <td>0.471519</td>\n",
              "      <td>0.025</td>\n",
              "    </tr>\n",
              "    <tr>\n",
              "      <th>2</th>\n",
              "      <td>0.561446</td>\n",
              "      <td>0.66346</td>\n",
              "      <td>0.563157</td>\n",
              "      <td>0.665537</td>\n",
              "      <td>0.374650</td>\n",
              "      <td>0.476759</td>\n",
              "      <td>0.050</td>\n",
              "    </tr>\n",
              "    <tr>\n",
              "      <th>3</th>\n",
              "      <td>0.561446</td>\n",
              "      <td>0.66346</td>\n",
              "      <td>0.563412</td>\n",
              "      <td>0.665773</td>\n",
              "      <td>0.379881</td>\n",
              "      <td>0.482012</td>\n",
              "      <td>0.075</td>\n",
              "    </tr>\n",
              "    <tr>\n",
              "      <th>4</th>\n",
              "      <td>0.561446</td>\n",
              "      <td>0.66346</td>\n",
              "      <td>0.563663</td>\n",
              "      <td>0.666023</td>\n",
              "      <td>0.385105</td>\n",
              "      <td>0.487220</td>\n",
              "      <td>0.100</td>\n",
              "    </tr>\n",
              "  </tbody>\n",
              "</table>\n",
              "</div>\n",
              "      <button class=\"colab-df-convert\" onclick=\"convertToInteractive('df-810f6a45-bb42-4433-97e5-cbd1f65a9a56')\"\n",
              "              title=\"Convert this dataframe to an interactive table.\"\n",
              "              style=\"display:none;\">\n",
              "        \n",
              "  <svg xmlns=\"http://www.w3.org/2000/svg\" height=\"24px\"viewBox=\"0 0 24 24\"\n",
              "       width=\"24px\">\n",
              "    <path d=\"M0 0h24v24H0V0z\" fill=\"none\"/>\n",
              "    <path d=\"M18.56 5.44l.94 2.06.94-2.06 2.06-.94-2.06-.94-.94-2.06-.94 2.06-2.06.94zm-11 1L8.5 8.5l.94-2.06 2.06-.94-2.06-.94L8.5 2.5l-.94 2.06-2.06.94zm10 10l.94 2.06.94-2.06 2.06-.94-2.06-.94-.94-2.06-.94 2.06-2.06.94z\"/><path d=\"M17.41 7.96l-1.37-1.37c-.4-.4-.92-.59-1.43-.59-.52 0-1.04.2-1.43.59L10.3 9.45l-7.72 7.72c-.78.78-.78 2.05 0 2.83L4 21.41c.39.39.9.59 1.41.59.51 0 1.02-.2 1.41-.59l7.78-7.78 2.81-2.81c.8-.78.8-2.07 0-2.86zM5.41 20L4 18.59l7.72-7.72 1.47 1.35L5.41 20z\"/>\n",
              "  </svg>\n",
              "      </button>\n",
              "      \n",
              "  <style>\n",
              "    .colab-df-container {\n",
              "      display:flex;\n",
              "      flex-wrap:wrap;\n",
              "      gap: 12px;\n",
              "    }\n",
              "\n",
              "    .colab-df-convert {\n",
              "      background-color: #E8F0FE;\n",
              "      border: none;\n",
              "      border-radius: 50%;\n",
              "      cursor: pointer;\n",
              "      display: none;\n",
              "      fill: #1967D2;\n",
              "      height: 32px;\n",
              "      padding: 0 0 0 0;\n",
              "      width: 32px;\n",
              "    }\n",
              "\n",
              "    .colab-df-convert:hover {\n",
              "      background-color: #E2EBFA;\n",
              "      box-shadow: 0px 1px 2px rgba(60, 64, 67, 0.3), 0px 1px 3px 1px rgba(60, 64, 67, 0.15);\n",
              "      fill: #174EA6;\n",
              "    }\n",
              "\n",
              "    [theme=dark] .colab-df-convert {\n",
              "      background-color: #3B4455;\n",
              "      fill: #D2E3FC;\n",
              "    }\n",
              "\n",
              "    [theme=dark] .colab-df-convert:hover {\n",
              "      background-color: #434B5C;\n",
              "      box-shadow: 0px 1px 3px 1px rgba(0, 0, 0, 0.15);\n",
              "      filter: drop-shadow(0px 1px 2px rgba(0, 0, 0, 0.3));\n",
              "      fill: #FFFFFF;\n",
              "    }\n",
              "  </style>\n",
              "\n",
              "      <script>\n",
              "        const buttonEl =\n",
              "          document.querySelector('#df-810f6a45-bb42-4433-97e5-cbd1f65a9a56 button.colab-df-convert');\n",
              "        buttonEl.style.display =\n",
              "          google.colab.kernel.accessAllowed ? 'block' : 'none';\n",
              "\n",
              "        async function convertToInteractive(key) {\n",
              "          const element = document.querySelector('#df-810f6a45-bb42-4433-97e5-cbd1f65a9a56');\n",
              "          const dataTable =\n",
              "            await google.colab.kernel.invokeFunction('convertToInteractive',\n",
              "                                                     [key], {});\n",
              "          if (!dataTable) return;\n",
              "\n",
              "          const docLinkHtml = 'Like what you see? Visit the ' +\n",
              "            '<a target=\"_blank\" href=https://colab.research.google.com/notebooks/data_table.ipynb>data table notebook</a>'\n",
              "            + ' to learn more about interactive tables.';\n",
              "          element.innerHTML = '';\n",
              "          dataTable['output_type'] = 'display_data';\n",
              "          await google.colab.output.renderOutput(dataTable, element);\n",
              "          const docLink = document.createElement('div');\n",
              "          docLink.innerHTML = docLinkHtml;\n",
              "          element.appendChild(docLink);\n",
              "        }\n",
              "      </script>\n",
              "    </div>\n",
              "  </div>\n",
              "  "
            ],
            "text/plain": [
              "         S0       S1        S2        S3        S4        S5      α\n",
              "0  0.561446  0.66346  0.562650  0.665015  0.364184  0.466287  0.000\n",
              "1  0.561446  0.66346  0.562899  0.665262  0.369413  0.471519  0.025\n",
              "2  0.561446  0.66346  0.563157  0.665537  0.374650  0.476759  0.050\n",
              "3  0.561446  0.66346  0.563412  0.665773  0.379881  0.482012  0.075\n",
              "4  0.561446  0.66346  0.563663  0.666023  0.385105  0.487220  0.100"
            ]
          },
          "execution_count": 3,
          "metadata": {},
          "output_type": "execute_result"
        }
      ],
      "source": [
        "df = pd.read_csv(\"/results/results.csv\")\n",
        "df"
      ]
    },
    {
      "cell_type": "code",
      "execution_count": 119,
      "metadata": {
        "colab": {
          "base_uri": "https://localhost:8080/",
          "height": 313
        },
        "id": "erYS7XAaIm7H",
        "outputId": "97fcda63-99f0-4ca2-e490-1281cac1d205"
      },
      "outputs": [
        {
          "data": {
            "text/plain": [
              "(array([0. , 0.2, 0.4, 0.6, 0.8]), <a list of 5 Text major ticklabel objects>)"
            ]
          },
          "execution_count": 119,
          "metadata": {},
          "output_type": "execute_result"
        },
        {
          "data": {
            "image/png": "[encoded data removed]",
            "text/plain": [
              "<Figure size 432x288 with 1 Axes>"
            ]
          },
          "metadata": {},
          "output_type": "display_data"
        }
      ],
      "source": [
        "import matplotlib.pyplot as plt\n",
        "import seaborn as sns\n",
        "\n",
        "data_columns = df.columns[:len(df.columns) -1 ]\n",
        "\n",
        "dfdata  = df[data_columns]\n",
        "\n",
        "sns.barplot(x=dfdata.columns, y=dfdata.iloc[1], palette=\"deep\")\n",
        "plt.xlabel(\"Scenarios\", fontsize=12)\n",
        "plt.ylabel(\"Hosting Capacity (MVA)\", fontsize=12)\n",
        "plt.gca().set_axisbelow(False)\n",
        "plt.grid(True, linewidth=0.5)\n",
        "plt.ylim(0, 0.8)\n",
        "plt.xticks(fontsize=12)\n",
        "plt.yticks(fontsize=12)"
      ]
    },
    {
      "cell_type": "code",
      "execution_count": 102,
      "metadata": {
        "colab": {
          "base_uri": "https://localhost:8080/",
          "height": 781
        },
        "id": "V_xL51B1Hqir",
        "outputId": "9740be13-14df-4118-fc17-702614fcff1f"
      },
      "outputs": [
        {
          "name": "stdout",
          "output_type": "stream",
          "text": [
            "[<matplotlib.axes._subplots.AxesSubplot object at 0x7fd201a59050>\n",
            " <matplotlib.axes._subplots.AxesSubplot object at 0x7fd208e03210>]\n",
            "S4\n",
            "S5\n"
          ]
        },
        {
          "data": {
            "image/png": "[encoded data removed]",
            "text/plain": [
              "<Figure size 360x720 with 2 Axes>"
            ]
          },
          "metadata": {},
          "output_type": "display_data"
        }
      ],
      "source": [
        "\n",
        "\n",
        "data_columns = df.columns[:len(df.columns) -1 ]\n",
        "\n",
        "dfdata  = df[data_columns]\n",
        "dfdata = 100*((dfdata/dfdata.iloc[0]) - 1)\n",
        "\n",
        "\n",
        "sns.set_theme(style=\"white\", context=\"talk\")\n",
        "\n",
        "colums = [\"S4\", \"S5\"]\n",
        "f, axs = plt.subplots(len(colums), 1, figsize=(5, 10), sharex=True)\n",
        "\n",
        "print(axs)\n",
        "for ax, colum in zip(axs, colums):\n",
        "    sns.barplot(x=100*df[\"α\"], y=dfdata[colum],palette=\"deep\", ax=ax)\n",
        "    ax.axhline(0, color=\"k\", clip_on=False)\n",
        "    ax.set_axisbelow(False)\n",
        "    ax.grid(True, linewidth=0.5)\n",
        "    ax.set_ylim((0, 10))\n",
        "    ax.set_xlabel(\"\")\n",
        "    ax.set_ylabel(f\"{colum} \\n HC improvement in (%)\", fontsize=12)\n",
        "    for label in (ax.get_xticklabels() + ax.get_yticklabels()):\n",
        "\t    label.set_fontsize(12)\n",
        "    print(colum)\n",
        "   \n",
        "sns.despine(bottom=True)\n",
        "\n",
        "plt.xlabel(\"α (%)\", fontsize=12)\n",
        "# plt.grid()\n",
        "# plt.setp(f.axes, yticks=[])\n",
        "plt.tight_layout()\n"
      ]
    }
  ],
  "metadata": {
    "colab": {
      "collapsed_sections": [],
      "name": "Results.ipynb",
      "provenance": []
    },
    "kernelspec": {
      "display_name": "Python 3",
      "name": "python3"
    },
    "language_info": {
      "name": "python"
    }
  },
  "nbformat": 4,
  "nbformat_minor": 0
}
